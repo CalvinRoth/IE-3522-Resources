{
 "cells": [
  {
   "attachments": {},
   "cell_type": "markdown",
   "metadata": {},
   "source": [
    "## Python walkthrough of in-class data analysis"
   ]
  },
  {
   "attachments": {},
   "cell_type": "markdown",
   "metadata": {},
   "source": [
    "## Prerequistes \n",
    "1. Install Python\n",
    "2. Install Numpy, pandas, openpyxl\n",
    "\n",
    "If you are unsure how to do these things you can download python here(https://www.python.org/downloads/) and I would recommend you use Conda as a package manager to help with 2.[https://docs.conda.io/en/latest/miniconda.html] \n",
    "\n",
    "If you are using conda you should be able to do something like `\n",
    "conda install openpyxl\n",
    "`\n",
    "To install packages. \n",
    "\n"
   ]
  },
  {
   "cell_type": "code",
   "execution_count": 1,
   "metadata": {},
   "outputs": [],
   "source": [
    "import numpy as np \n",
    "import pandas as pd"
   ]
  },
  {
   "attachments": {},
   "cell_type": "markdown",
   "metadata": {},
   "source": [
    "## Opening the document"
   ]
  },
  {
   "cell_type": "code",
   "execution_count": 2,
   "metadata": {},
   "outputs": [
    {
     "data": {
      "text/html": [
       "<div>\n",
       "<style scoped>\n",
       "    .dataframe tbody tr th:only-of-type {\n",
       "        vertical-align: middle;\n",
       "    }\n",
       "\n",
       "    .dataframe tbody tr th {\n",
       "        vertical-align: top;\n",
       "    }\n",
       "\n",
       "    .dataframe thead th {\n",
       "        text-align: right;\n",
       "    }\n",
       "</style>\n",
       "<table border=\"1\" class=\"dataframe\">\n",
       "  <thead>\n",
       "    <tr style=\"text-align: right;\">\n",
       "      <th></th>\n",
       "      <th>Sample</th>\n",
       "      <th>Failure Time</th>\n",
       "    </tr>\n",
       "  </thead>\n",
       "  <tbody>\n",
       "    <tr>\n",
       "      <th>0</th>\n",
       "      <td>1</td>\n",
       "      <td>127</td>\n",
       "    </tr>\n",
       "    <tr>\n",
       "      <th>1</th>\n",
       "      <td>2</td>\n",
       "      <td>125</td>\n",
       "    </tr>\n",
       "    <tr>\n",
       "      <th>2</th>\n",
       "      <td>3</td>\n",
       "      <td>131</td>\n",
       "    </tr>\n",
       "    <tr>\n",
       "      <th>3</th>\n",
       "      <td>4</td>\n",
       "      <td>124</td>\n",
       "    </tr>\n",
       "    <tr>\n",
       "      <th>4</th>\n",
       "      <td>5</td>\n",
       "      <td>129</td>\n",
       "    </tr>\n",
       "    <tr>\n",
       "      <th>5</th>\n",
       "      <td>6</td>\n",
       "      <td>121</td>\n",
       "    </tr>\n",
       "    <tr>\n",
       "      <th>6</th>\n",
       "      <td>7</td>\n",
       "      <td>142</td>\n",
       "    </tr>\n",
       "    <tr>\n",
       "      <th>7</th>\n",
       "      <td>8</td>\n",
       "      <td>151</td>\n",
       "    </tr>\n",
       "    <tr>\n",
       "      <th>8</th>\n",
       "      <td>9</td>\n",
       "      <td>160</td>\n",
       "    </tr>\n",
       "    <tr>\n",
       "      <th>9</th>\n",
       "      <td>10</td>\n",
       "      <td>125</td>\n",
       "    </tr>\n",
       "  </tbody>\n",
       "</table>\n",
       "</div>"
      ],
      "text/plain": [
       "   Sample  Failure Time\n",
       "0       1           127\n",
       "1       2           125\n",
       "2       3           131\n",
       "3       4           124\n",
       "4       5           129\n",
       "5       6           121\n",
       "6       7           142\n",
       "7       8           151\n",
       "8       9           160\n",
       "9      10           125"
      ]
     },
     "execution_count": 2,
     "metadata": {},
     "output_type": "execute_result"
    }
   ],
   "source": [
    "data = pd.read_excel(\"Week 2 - SPC - Excel - InClass.xlsx\", header=0)\n",
    "data[:10]"
   ]
  },
  {
   "attachments": {},
   "cell_type": "markdown",
   "metadata": {},
   "source": [
    "```data[:10]``` gets the first 10 rows. Note that in python counting starts at 0 note 1 \n",
    "\n",
    "```header=0``` says that the text in the 0th row(first row in english) are what we should use as the name of each column. "
   ]
  },
  {
   "attachments": {},
   "cell_type": "markdown",
   "metadata": {},
   "source": [
    "If there are multiple sheets you can select the sheet you want with the sheet name option either by selecting what sheet we want by name or number in order of appearance.  "
   ]
  },
  {
   "cell_type": "code",
   "execution_count": 3,
   "metadata": {},
   "outputs": [
    {
     "data": {
      "text/html": [
       "<div>\n",
       "<style scoped>\n",
       "    .dataframe tbody tr th:only-of-type {\n",
       "        vertical-align: middle;\n",
       "    }\n",
       "\n",
       "    .dataframe tbody tr th {\n",
       "        vertical-align: top;\n",
       "    }\n",
       "\n",
       "    .dataframe thead th {\n",
       "        text-align: right;\n",
       "    }\n",
       "</style>\n",
       "<table border=\"1\" class=\"dataframe\">\n",
       "  <thead>\n",
       "    <tr style=\"text-align: right;\">\n",
       "      <th></th>\n",
       "      <th>Sample</th>\n",
       "      <th>Failure Time</th>\n",
       "    </tr>\n",
       "  </thead>\n",
       "  <tbody>\n",
       "    <tr>\n",
       "      <th>0</th>\n",
       "      <td>1</td>\n",
       "      <td>127</td>\n",
       "    </tr>\n",
       "    <tr>\n",
       "      <th>1</th>\n",
       "      <td>2</td>\n",
       "      <td>125</td>\n",
       "    </tr>\n",
       "    <tr>\n",
       "      <th>2</th>\n",
       "      <td>3</td>\n",
       "      <td>131</td>\n",
       "    </tr>\n",
       "    <tr>\n",
       "      <th>3</th>\n",
       "      <td>4</td>\n",
       "      <td>124</td>\n",
       "    </tr>\n",
       "    <tr>\n",
       "      <th>4</th>\n",
       "      <td>5</td>\n",
       "      <td>129</td>\n",
       "    </tr>\n",
       "    <tr>\n",
       "      <th>5</th>\n",
       "      <td>6</td>\n",
       "      <td>121</td>\n",
       "    </tr>\n",
       "    <tr>\n",
       "      <th>6</th>\n",
       "      <td>7</td>\n",
       "      <td>142</td>\n",
       "    </tr>\n",
       "    <tr>\n",
       "      <th>7</th>\n",
       "      <td>8</td>\n",
       "      <td>151</td>\n",
       "    </tr>\n",
       "    <tr>\n",
       "      <th>8</th>\n",
       "      <td>9</td>\n",
       "      <td>160</td>\n",
       "    </tr>\n",
       "    <tr>\n",
       "      <th>9</th>\n",
       "      <td>10</td>\n",
       "      <td>125</td>\n",
       "    </tr>\n",
       "  </tbody>\n",
       "</table>\n",
       "</div>"
      ],
      "text/plain": [
       "   Sample  Failure Time\n",
       "0       1           127\n",
       "1       2           125\n",
       "2       3           131\n",
       "3       4           124\n",
       "4       5           129\n",
       "5       6           121\n",
       "6       7           142\n",
       "7       8           151\n",
       "8       9           160\n",
       "9      10           125"
      ]
     },
     "execution_count": 3,
     "metadata": {},
     "output_type": "execute_result"
    }
   ],
   "source": [
    "## Sheet name by number, get the first sheet\n",
    "data = pd.read_excel(\"Week 2 - SPC - Excel - InClass.xlsx\", sheet_name=0, header=0)\n",
    "data[:10]"
   ]
  },
  {
   "cell_type": "code",
   "execution_count": 4,
   "metadata": {},
   "outputs": [
    {
     "data": {
      "text/html": [
       "<div>\n",
       "<style scoped>\n",
       "    .dataframe tbody tr th:only-of-type {\n",
       "        vertical-align: middle;\n",
       "    }\n",
       "\n",
       "    .dataframe tbody tr th {\n",
       "        vertical-align: top;\n",
       "    }\n",
       "\n",
       "    .dataframe thead th {\n",
       "        text-align: right;\n",
       "    }\n",
       "</style>\n",
       "<table border=\"1\" class=\"dataframe\">\n",
       "  <thead>\n",
       "    <tr style=\"text-align: right;\">\n",
       "      <th></th>\n",
       "      <th>Sample</th>\n",
       "      <th>Failure Time</th>\n",
       "    </tr>\n",
       "  </thead>\n",
       "  <tbody>\n",
       "    <tr>\n",
       "      <th>0</th>\n",
       "      <td>1</td>\n",
       "      <td>127</td>\n",
       "    </tr>\n",
       "    <tr>\n",
       "      <th>1</th>\n",
       "      <td>2</td>\n",
       "      <td>125</td>\n",
       "    </tr>\n",
       "    <tr>\n",
       "      <th>2</th>\n",
       "      <td>3</td>\n",
       "      <td>131</td>\n",
       "    </tr>\n",
       "    <tr>\n",
       "      <th>3</th>\n",
       "      <td>4</td>\n",
       "      <td>124</td>\n",
       "    </tr>\n",
       "    <tr>\n",
       "      <th>4</th>\n",
       "      <td>5</td>\n",
       "      <td>129</td>\n",
       "    </tr>\n",
       "    <tr>\n",
       "      <th>5</th>\n",
       "      <td>6</td>\n",
       "      <td>121</td>\n",
       "    </tr>\n",
       "    <tr>\n",
       "      <th>6</th>\n",
       "      <td>7</td>\n",
       "      <td>142</td>\n",
       "    </tr>\n",
       "    <tr>\n",
       "      <th>7</th>\n",
       "      <td>8</td>\n",
       "      <td>151</td>\n",
       "    </tr>\n",
       "    <tr>\n",
       "      <th>8</th>\n",
       "      <td>9</td>\n",
       "      <td>160</td>\n",
       "    </tr>\n",
       "    <tr>\n",
       "      <th>9</th>\n",
       "      <td>10</td>\n",
       "      <td>125</td>\n",
       "    </tr>\n",
       "  </tbody>\n",
       "</table>\n",
       "</div>"
      ],
      "text/plain": [
       "   Sample  Failure Time\n",
       "0       1           127\n",
       "1       2           125\n",
       "2       3           131\n",
       "3       4           124\n",
       "4       5           129\n",
       "5       6           121\n",
       "6       7           142\n",
       "7       8           151\n",
       "8       9           160\n",
       "9      10           125"
      ]
     },
     "execution_count": 4,
     "metadata": {},
     "output_type": "execute_result"
    }
   ],
   "source": [
    "## Sheet name by number, get the first sheet\n",
    "data = pd.read_excel(\"Week 2 - SPC - Excel - InClass.xlsx\", sheet_name=\"InputData\", header=0)\n",
    "data[:10]"
   ]
  },
  {
   "attachments": {},
   "cell_type": "markdown",
   "metadata": {},
   "source": [
    "The above three for this example are all the same. \n",
    "\n",
    "## Manipulating data \n",
    "\n",
    "There are a lot of ways manipulate data in python, you might have to google them as they arise. Here a few\n",
    "\n",
    "1. Access a column\n",
    "To access a column you can use syntax like ```data[\"Column Name\"]```. We can access values they want by index. So to get the first 10 values of the failure time we do"
   ]
  },
  {
   "cell_type": "code",
   "execution_count": 6,
   "metadata": {},
   "outputs": [
    {
     "data": {
      "text/plain": [
       "0     127\n",
       "2     131\n",
       "4     129\n",
       "6     142\n",
       "8     160\n",
       "10    124\n",
       "12    120\n",
       "14    128\n",
       "16    137\n",
       "18    142\n",
       "Name: Failure Time, dtype: int64"
      ]
     },
     "execution_count": 6,
     "metadata": {},
     "output_type": "execute_result"
    }
   ],
   "source": [
    "data[\"Failure Time\"][0:20:2]"
   ]
  },
  {
   "attachments": {},
   "cell_type": "markdown",
   "metadata": {},
   "source": [
    "2. Sorting \n",
    "We can sort values increasing or decreasing order. For example, "
   ]
  },
  {
   "cell_type": "code",
   "execution_count": 7,
   "metadata": {},
   "outputs": [
    {
     "data": {
      "text/plain": [
       "30    118\n",
       "13    119\n",
       "12    120\n",
       "5     121\n",
       "20    121\n",
       "29    122\n",
       "19    123\n",
       "11    123\n",
       "10    124\n",
       "25    124\n",
       "3     124\n",
       "17    124\n",
       "32    125\n",
       "35    125\n",
       "1     125\n",
       "24    125\n",
       "9     125\n",
       "39    126\n",
       "0     127\n",
       "26    128\n",
       "14    128\n",
       "38    129\n",
       "4     129\n",
       "27    129\n",
       "28    130\n",
       "31    131\n",
       "2     131\n",
       "37    131\n",
       "15    133\n",
       "33    133\n",
       "21    136\n",
       "16    137\n",
       "23    137\n",
       "22    140\n",
       "36    140\n",
       "34    141\n",
       "6     142\n",
       "18    142\n",
       "7     151\n",
       "8     160\n",
       "Name: Failure Time, dtype: int64"
      ]
     },
     "execution_count": 7,
     "metadata": {},
     "output_type": "execute_result"
    }
   ],
   "source": [
    "data[\"Failure Time\"].sort_values()"
   ]
  },
  {
   "attachments": {},
   "cell_type": "markdown",
   "metadata": {},
   "source": [
    "The LHS tells us the initial position and the right tells us the value \n",
    "\n",
    "\n",
    "3. Selecting data\n",
    "We can select data in arbitary ways based on the data. To do use we use syntax like ```np.where``` for example if we wanted the people whose failure time was above 130 we can do"
   ]
  },
  {
   "cell_type": "code",
   "execution_count": 8,
   "metadata": {},
   "outputs": [
    {
     "data": {
      "text/plain": [
       "array([ 2,  6,  7,  8, 15, 16, 18, 21, 22, 23, 31, 33, 34, 36, 37])"
      ]
     },
     "execution_count": 8,
     "metadata": {},
     "output_type": "execute_result"
    }
   ],
   "source": [
    "long_fail_times = [np.where(data[\"Failure Time\"] > 130)][0][0]\n",
    "long_fail_times"
   ]
  },
  {
   "attachments": {},
   "cell_type": "markdown",
   "metadata": {},
   "source": [
    "We can then use this variable to get at the rows of the table that match these indices"
   ]
  },
  {
   "cell_type": "code",
   "execution_count": 9,
   "metadata": {},
   "outputs": [
    {
     "data": {
      "text/plain": [
       "2     131\n",
       "6     142\n",
       "7     151\n",
       "8     160\n",
       "15    133\n",
       "16    137\n",
       "18    142\n",
       "21    136\n",
       "22    140\n",
       "23    137\n",
       "31    131\n",
       "33    133\n",
       "34    141\n",
       "36    140\n",
       "37    131\n",
       "Name: Failure Time, dtype: int64"
      ]
     },
     "execution_count": 9,
     "metadata": {},
     "output_type": "execute_result"
    }
   ],
   "source": [
    "data[\"Failure Time\"][long_fail_times]"
   ]
  },
  {
   "attachments": {},
   "cell_type": "markdown",
   "metadata": {},
   "source": [
    "## Getting statistics about the data\n",
    "Most of the common operations you'll need are in the numpy package. "
   ]
  },
  {
   "cell_type": "code",
   "execution_count": 10,
   "metadata": {},
   "outputs": [
    {
     "name": "stdout",
     "output_type": "stream",
     "text": [
      "Mean:  129.975\n",
      "Standard dev:  8.80195290830393\n",
      "Max Value:  160\n",
      "Min Value 118\n",
      "Range:  42\n"
     ]
    }
   ],
   "source": [
    "max_value = np.max(data[\"Failure Time\"])\n",
    "min_value = np.min(data[\"Failure Time\"])\n",
    "mean = np.mean(data[\"Failure Time\"])\n",
    "std = np.std(data[\"Failure Time\"])\n",
    "\n",
    "print(\"Mean: \", mean)\n",
    "print(\"Standard dev: \", std)\n",
    "print(\"Max Value: \", max_value)\n",
    "print(\"Min Value\", min_value)\n",
    "print(\"Range: \", max_value - min_value)"
   ]
  },
  {
   "cell_type": "markdown",
   "metadata": {},
   "source": []
  }
 ],
 "metadata": {
  "kernelspec": {
   "display_name": "ie3522_test",
   "language": "python",
   "name": "python3"
  },
  "language_info": {
   "codemirror_mode": {
    "name": "ipython",
    "version": 3
   },
   "file_extension": ".py",
   "mimetype": "text/x-python",
   "name": "python",
   "nbconvert_exporter": "python",
   "pygments_lexer": "ipython3",
   "version": "3.10.9"
  },
  "orig_nbformat": 4,
  "vscode": {
   "interpreter": {
    "hash": "82e37b7caab8ede0e14770dfe590de6af3206a3d89c26adab6a89e23130c5065"
   }
  }
 },
 "nbformat": 4,
 "nbformat_minor": 2
}
